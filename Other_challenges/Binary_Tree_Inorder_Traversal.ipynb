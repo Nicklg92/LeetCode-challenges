{
 "cells": [
  {
   "cell_type": "code",
   "execution_count": 1,
   "id": "2f2e05f9-85f0-40dd-9840-c319d587e46e",
   "metadata": {},
   "outputs": [],
   "source": [
    "#Binary Tree Inorder Traversal"
   ]
  },
  {
   "cell_type": "code",
   "execution_count": 2,
   "id": "32717fda-a3ed-4f7f-86db-a566d29ca82c",
   "metadata": {},
   "outputs": [],
   "source": [
    "#The challenges asks to return (instead of just printing) the list of values."
   ]
  },
  {
   "cell_type": "code",
   "execution_count": null,
   "id": "e19ee3d7-84e6-4541-bb45-f703a6a921f3",
   "metadata": {},
   "outputs": [],
   "source": [
    "# Definition for a binary tree node.\n",
    " class TreeNode:\n",
    "     def __init__(self, val=0, left=None, right=None):\n",
    "         self.val = val\n",
    "         self.left = left\n",
    "         self.right = right\n",
    "class Solution:\n",
    "    def inorderTraversal(self, root: Optional[TreeNode]) -> List[int]:\n",
    "        vals = []\n",
    "        def inorder(node):\n",
    "            if not node:\n",
    "                return\n",
    "            inorder(node.left)\n",
    "            vals.append(node.val)\n",
    "            inorder(node.right)\n",
    "       inorder(root)\n",
    "       return vals"
   ]
  }
 ],
 "metadata": {
  "kernelspec": {
   "display_name": "Python 3 (ipykernel)",
   "language": "python",
   "name": "python3"
  },
  "language_info": {
   "codemirror_mode": {
    "name": "ipython",
    "version": 3
   },
   "file_extension": ".py",
   "mimetype": "text/x-python",
   "name": "python",
   "nbconvert_exporter": "python",
   "pygments_lexer": "ipython3",
   "version": "3.13.5"
  }
 },
 "nbformat": 4,
 "nbformat_minor": 5
}
