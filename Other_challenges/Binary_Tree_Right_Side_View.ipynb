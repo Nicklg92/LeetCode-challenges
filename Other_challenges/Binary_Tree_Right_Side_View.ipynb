{
 "cells": [
  {
   "cell_type": "code",
   "execution_count": 1,
   "id": "85318a17-0e5b-44be-8932-3b36b0ebd815",
   "metadata": {},
   "outputs": [],
   "source": [
    "#Binary_Tree_Right_Side_View"
   ]
  },
  {
   "cell_type": "code",
   "execution_count": 3,
   "id": "8d4773dc-6770-442a-844f-d82d92b04966",
   "metadata": {},
   "outputs": [],
   "source": [
    "# Definition for a binary tree node.\n",
    "class TreeNode:\n",
    "    def __init__(self, val=0, left=None, right=None):\n",
    "        self.val = val\n",
    "        self.left = left\n",
    "        self.right = right\n",
    "\n",
    "from typing import List, Optional\n",
    "\n",
    "class Solution:\n",
    "    def rightSideView(self, root: Optional[TreeNode]) -> List[int]:\n",
    "\n",
    "        res = []\n",
    "        q = []\n",
    "        q.append(root)\n",
    "\n",
    "        level = []\n",
    "\n",
    "        while q:\n",
    "            qLen = len(q)\n",
    "            level = []\n",
    "            for i in range(qLen):\n",
    "                node = q[0]\n",
    "                del q[0]\n",
    "                if node:\n",
    "                    level.append(node.val)\n",
    "                    q.append(node.left)\n",
    "                    q.append(node.right)\n",
    "            if level:\n",
    "                res.append(level[-1])\n",
    "        return res\n",
    "\n",
    "#4 minutes and 6 seconds, simple adapatation of the previous.\n",
    "#Probably smarter manner exists."
   ]
  },
  {
   "cell_type": "code",
   "execution_count": null,
   "id": "891357be-8fc6-449b-a05c-b4018951536a",
   "metadata": {},
   "outputs": [],
   "source": []
  }
 ],
 "metadata": {
  "kernelspec": {
   "display_name": "Python 3 (ipykernel)",
   "language": "python",
   "name": "python3"
  },
  "language_info": {
   "codemirror_mode": {
    "name": "ipython",
    "version": 3
   },
   "file_extension": ".py",
   "mimetype": "text/x-python",
   "name": "python",
   "nbconvert_exporter": "python",
   "pygments_lexer": "ipython3",
   "version": "3.13.5"
  }
 },
 "nbformat": 4,
 "nbformat_minor": 5
}
