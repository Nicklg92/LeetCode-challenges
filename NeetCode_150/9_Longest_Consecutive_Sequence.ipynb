{
 "cells": [
  {
   "cell_type": "code",
   "execution_count": 1,
   "id": "ebf0c3ec-c674-452e-b874-2d35febe81b4",
   "metadata": {},
   "outputs": [],
   "source": [
    "#9 Longest Consecutive Sequence"
   ]
  },
  {
   "cell_type": "code",
   "execution_count": null,
   "id": "df5d93d5-6ba7-4a18-a8a7-cedc9918f2c8",
   "metadata": {},
   "outputs": [],
   "source": [
    "#Tried for 1 hour and 2 minutes, totally missed the points. This was my attempt:"
   ]
  },
  {
   "cell_type": "code",
   "execution_count": 2,
   "id": "87e964d5-9bab-44be-a178-b7896df77965",
   "metadata": {},
   "outputs": [],
   "source": [
    "from typing import List\n",
    "\n",
    "class Solution:\n",
    "    def longestConsecutive(self, nums: List[int]) -> int:\n",
    "\n",
    "        len_consecs = []\n",
    "\n",
    "        if not nums:\n",
    "            return 0\n",
    "\n",
    "        if len(set(nums)) == 1:\n",
    "            return 1\n",
    "\n",
    "        #Idea: (quadratic). Consider each element of \n",
    "        #the array. Define the sequence of length \n",
    "        #same as arrwy starting from it.\n",
    "        #For instance, if nums = [1,2,5,3,22], considering \n",
    "        #the first element 1, define the sequence of \n",
    "        #four values after it (including it): 1,2,3,4,5.\n",
    "        #Sort also the original array and see how many\n",
    "        #elements do they have in common. \n",
    "        #We will therefore compare [1,2,3,4,5] and [1,2,3,5,22]\n",
    "        #Hence, since they match the first three elements,\n",
    "        #this means this is the longest sequence one can \n",
    "        #obtain considering 1, the first element of nums.\n",
    "        #Store this value for each element in nums and \n",
    "        #simply return the longest one.\n",
    "\n",
    "        for i in nums:\n",
    "            consecs = []\n",
    "            seq_after_i = list(range(i, i + len(nums)))\n",
    "            nums_sorted = sorted(list(set(nums)))\n",
    "            #Idea: pad nums with some random values, so that\n",
    "            #I can then check for equalities at the positional level. \n",
    "            #Important to pad it with some nonsense we can\n",
    "            #just discard, as letter.\n",
    "            nums_sorted = nums_sorted + [\"Z\"] * (len(seq_after_i) - len(nums_sorted))\n",
    "            print(seq_after_i, nums_sorted)\n",
    "            #for j in range(len(seq_after_i)):\n",
    "            #    if nums_sorted[j] == seq_after_i[j]:\n",
    "            #        consecs.append(j)\n",
    "            len_consecs.append(len(consecs))\n",
    "\n",
    "        return max(len_consecs)\n",
    "\n",
    "#Bangled after 1 hour and 2 minutes. Did not get it. \n",
    "\n",
    "\n",
    "        #return len(consecs)\n",
    "        "
   ]
  },
  {
   "cell_type": "code",
   "execution_count": 3,
   "id": "12942f8a-8338-4773-a17d-bb7c90ab4245",
   "metadata": {},
   "outputs": [],
   "source": [
    "#Gonna study both the Brute Force and one of the two optimal.\n",
    "\n",
    "#1) This is the Brute Force:"
   ]
  },
  {
   "cell_type": "code",
   "execution_count": 4,
   "id": "9feff8d6-a647-4edb-8084-e2f1bfe29c1e",
   "metadata": {},
   "outputs": [],
   "source": [
    "class Solution:\n",
    "    def longestConsecutive(self, nums: List[int]) -> int:\n",
    "        res = 0\n",
    "        store = set(nums)\n",
    "\n",
    "        for num in nums:\n",
    "            streak, curr = 0, num\n",
    "            while curr in store:\n",
    "                streak += 1\n",
    "                curr += 1\n",
    "            res = max(res, streak)\n",
    "        return res"
   ]
  },
  {
   "cell_type": "code",
   "execution_count": 5,
   "id": "6386232c-9ac2-4ac6-88b5-db7ffb90a559",
   "metadata": {},
   "outputs": [],
   "source": [
    "#nums = [2,20,4,10,3,4,5]\n",
    "\n",
    "#res = 0\n",
    "#store = set(nums) => store = {2,20,10,3,4,5} (not necessarily in this order, but not relevant)\n",
    "\n",
    "#for num in nums:\n",
    "#=> num = 2\n",
    "\n",
    "#streak, curr = 0, num => streak = 0, curr = 2\n",
    "#while curr in store: => 2 in {2,20,10,3,4,5} is True\n",
    "#streak += 1 => streak = 0 + 1 = 1\n",
    "#curr += 1 => curr = 2 + 1 = 3\n",
    "#while curr in store: => 3 in {2,20,10,3,4,5} is True\n",
    "#streak += 1 => streak = 1 + 1 = 2\n",
    "#curr += 1 => curr = 3 + 1 = 4\n",
    "#while curr in store: => 4 in {2,20,10,3,4,5} is True\n",
    "#streak += 1 => streak = 2 + 1 = 3\n",
    "#curr += 1 => curr = 4 + 1 = 5\n",
    "#while curr in store: => 5 in {2,20,10,3,4,5} is True\n",
    "#streak += 1 => streak = 3 + 1 = 4\n",
    "#curr += 1 => curr = 5 + 1 = 6\n",
    "#while curr in store: => 6 in {2,20,10,3,4,5} is False\n",
    "#res = max(res, streak) = max(0, 4) = 4\n",
    "\n",
    "#and now we go all over the other num in nums. None of them will return a sequence longer than 4, the final answer.\n",
    "\n"
   ]
  },
  {
   "cell_type": "code",
   "execution_count": 6,
   "id": "55f45a3d-da80-4288-831a-b0c5fa056aaf",
   "metadata": {},
   "outputs": [],
   "source": [
    "#2) Let's consider the solution using Hashing Sets (the other are with Sorting and Hash Maps)"
   ]
  },
  {
   "cell_type": "code",
   "execution_count": 7,
   "id": "ff4fb21d-3498-43a6-bfe4-baad60c96a53",
   "metadata": {},
   "outputs": [],
   "source": [
    "class Solution:\n",
    "    def longestConsecutive(self, nums: List[int]) -> int:\n",
    "        numSet = set(nums)\n",
    "        longest = 0\n",
    "\n",
    "        for num in numSet:\n",
    "            if (num - 1) not in numSet:\n",
    "                length = 1\n",
    "                while (num + length) in numSet:\n",
    "                    length += 1\n",
    "                longest = max(length, longest)\n",
    "        return longest"
   ]
  },
  {
   "cell_type": "code",
   "execution_count": 8,
   "id": "0ab2b364-8bdb-4760-a76d-028b78f73372",
   "metadata": {},
   "outputs": [],
   "source": [
    "#nums = [2,20,4,10,3,4,5]\n",
    "\n",
    "#numSet = set(nums) => numSet = {2,20,10,3,4,5} (not necessarily in this order, but not relevant)\n",
    "#longest = 0\n",
    "\n",
    "#for num in numSet:\n",
    "#=> num = 2\n",
    "\n",
    "#if (num - 1) not in numSet: => if 1 not in {2,20,10,3,4,5} which is True.\n",
    "#length = 1\n",
    "#while num + length in numSet: => while 2 + 1 in {2,20,10,3,4,5} which is True.\n",
    "#length += 1 => length = 1 + 1 = 2\n",
    "#while num + length in numSet: => while 2 + 2 in {2,20,10,3,4,5} which is True.\n",
    "#length += 1 => length = 2 + 1 = 3\n",
    "#while num + length in numSet: => while 2 + 3 in {2,20,10,3,4,5} which is True.\n",
    "#length += 1 => length = 3 + 1 = 4\n",
    "#while num + length in numSet: => while 2 + 4 in {2,20,10,3,4,5} which is False.\n",
    "#longest = max(4, 0) = 4\n",
    "\n",
    "#=> num = 20\n",
    "#if (num - 1) not in numSet: => if 19 not in {2,20,10,3,4,5} which is True.\n",
    "#length = 1\n",
    "#while (num + length) in numSet: => while (20 + 1) in {2,20,10,3,4,5} which is False\n",
    "#longest = max(length, longest) => longest = max(1, 4) = 4, id est remains unchanged.\n",
    "\n"
   ]
  },
  {
   "cell_type": "code",
   "execution_count": 10,
   "id": "934855ed-0f38-4a94-841d-3dd550722c9d",
   "metadata": {},
   "outputs": [
    {
     "name": "stdout",
     "output_type": "stream",
     "text": [
      "Something\n",
      "Something\n"
     ]
    }
   ],
   "source": [
    "#Just to understand better the for:\n",
    "#numSet = [4,5,2]\n",
    "#for num in [2,3,7]:\n",
    "#    if (num - 1) not in numSet:\n",
    "#        print(\"Something\")\n",
    "\n",
    "#returns\n",
    "\n",
    "#Something\n",
    "#Something\n",
    "\n",
    "#In other words, for the cases where the if is not met, simply nothing happens and we move to the other num. "
   ]
  },
  {
   "cell_type": "code",
   "execution_count": null,
   "id": "818cf339-b41d-4936-a572-788bf3df493a",
   "metadata": {},
   "outputs": [],
   "source": []
  }
 ],
 "metadata": {
  "kernelspec": {
   "display_name": "Python 3 (ipykernel)",
   "language": "python",
   "name": "python3"
  },
  "language_info": {
   "codemirror_mode": {
    "name": "ipython",
    "version": 3
   },
   "file_extension": ".py",
   "mimetype": "text/x-python",
   "name": "python",
   "nbconvert_exporter": "python",
   "pygments_lexer": "ipython3",
   "version": "3.13.5"
  }
 },
 "nbformat": 4,
 "nbformat_minor": 5
}
