{
 "cells": [
  {
   "cell_type": "code",
   "execution_count": 1,
   "id": "be7d46d8-9ae9-418f-8afc-98d4e0f0d22f",
   "metadata": {},
   "outputs": [],
   "source": [
    "#5 Top K frequent elements\n",
    "\n",
    "#One-shotted in 11 minutes and 18 seconds. Following is my solution:"
   ]
  },
  {
   "cell_type": "code",
   "execution_count": 1,
   "id": "f1542b27-5665-4968-b497-f72a504525c2",
   "metadata": {},
   "outputs": [],
   "source": [
    "from typing import List\n",
    "class Solution:\n",
    "    def topKFrequent(self, nums: List[int], k: int) -> List[int]:\n",
    "        #Idea: \n",
    "        #Create dictionary that counts occurances for each item in nums. \n",
    "        #Extract the counts as a list.\n",
    "        #Sort it.\n",
    "        #Extract the k highest values.\n",
    "        #Find the keys associated to them and return them.\n",
    "        counts = {}\n",
    "        for i in nums:\n",
    "            if i not in counts:\n",
    "                counts[i] = 1\n",
    "            else: \n",
    "                counts[i] += 1\n",
    "        print(counts)\n",
    "        sorted_freqs = sorted(list(counts.values()))\n",
    "        most_k_freqs = sorted_freqs[-k:]\n",
    "        print(sorted_freqs, most_k_freqs)\n",
    "        most_k_vals = []\n",
    "        for keys in counts:\n",
    "            if counts[keys] in most_k_freqs:\n",
    "                most_k_vals.append(keys)\n",
    "        return most_k_vals\n",
    "\n",
    "#Solved in 11 minutes and 18 seconds, from scratch.\n",
    "#Feels good. \n",
    "\n",
    "#30/09/2025, 19:04. TO STUDY ANYWAY THE OTHER TWO SOLUTIONS.\n",
    "        "
   ]
  },
  {
   "cell_type": "code",
   "execution_count": null,
   "id": "8a120786-7201-46e3-b460-07d192c461f4",
   "metadata": {},
   "outputs": [],
   "source": []
  }
 ],
 "metadata": {
  "kernelspec": {
   "display_name": "Python 3 (ipykernel)",
   "language": "python",
   "name": "python3"
  },
  "language_info": {
   "codemirror_mode": {
    "name": "ipython",
    "version": 3
   },
   "file_extension": ".py",
   "mimetype": "text/x-python",
   "name": "python",
   "nbconvert_exporter": "python",
   "pygments_lexer": "ipython3",
   "version": "3.13.5"
  }
 },
 "nbformat": 4,
 "nbformat_minor": 5
}
