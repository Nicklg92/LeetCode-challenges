{
 "cells": [
  {
   "cell_type": "code",
   "execution_count": 1,
   "id": "5b091ab3-e6e9-4dba-a075-37a3073ef259",
   "metadata": {},
   "outputs": [],
   "source": [
    "#3 Two Sums"
   ]
  },
  {
   "cell_type": "code",
   "execution_count": 1,
   "id": "f9b5c57b-dd1f-42c4-a44d-bb4f5da9cfc8",
   "metadata": {},
   "outputs": [],
   "source": [
    "#My solution, O(n**2)\n",
    "\n",
    "from typing import List\n",
    "\n",
    "class Solution:\n",
    "    def twoSum(self, nums: List[int], target: int) -> List[int]:\n",
    "        indexes = []\n",
    "        for i in range(len(nums)):\n",
    "            for j in range(i + 1, len(nums)):\n",
    "                if nums[i] + nums[j] == target:\n",
    "                    indexes.append(i)\n",
    "                    indexes.append(j)\n",
    "        return indexes\n",
    "        "
   ]
  },
  {
   "cell_type": "code",
   "execution_count": 3,
   "id": "6ba32153-d907-4153-81e6-16ad358f32f0",
   "metadata": {},
   "outputs": [],
   "source": [
    "#O(n), using hash maps one pass\n",
    "\n",
    "class Solution:\n",
    "    def twoSum(self, nums: List[int], target: int) -> List[int]:\n",
    "        prevMap = {}  # val -> index\n",
    "\n",
    "        for i, n in enumerate(nums):\n",
    "            diff = target - n\n",
    "            if diff in prevMap:\n",
    "                return [prevMap[diff], i]\n",
    "            prevMap[n] = i"
   ]
  },
  {
   "cell_type": "code",
   "execution_count": null,
   "id": "941c7018-b130-49c0-911e-0c167fbed26e",
   "metadata": {},
   "outputs": [],
   "source": [
    "#Let nums = [3,4,5,6], target = 7\n",
    "\n",
    "#prevmap = {}\n",
    "\n",
    "#for i, n in enumerate(nums): (0,3), (1,4), (2,5), (3,7)\n",
    "#i, n = 0, 3 \n",
    "\n",
    "#diff = target - n => diff = 7 - 3 = 4\n",
    "#if diff in prevMap: => if  4 in {} is False\n",
    "#prevMap[3] = 4 => prevmMap = {3: 4}\n",
    "\n",
    "#i, n = 1, 4\n",
    "#diff = target - n = 7 - 4 = 3\n",
    "#if diff in prevMap: => if 3 in {3: 4} is True:\n",
    "#return [prevMap[diff], i] => return [0, 1]\n"
   ]
  },
  {
   "cell_type": "code",
   "execution_count": null,
   "id": "2d96a82e-74fc-40de-b090-317743fe991b",
   "metadata": {},
   "outputs": [],
   "source": []
  },
  {
   "cell_type": "code",
   "execution_count": null,
   "id": "a23fefd7-b39e-4ea4-bdca-2dc64655808b",
   "metadata": {},
   "outputs": [],
   "source": []
  }
 ],
 "metadata": {
  "kernelspec": {
   "display_name": "Python 3 (ipykernel)",
   "language": "python",
   "name": "python3"
  },
  "language_info": {
   "codemirror_mode": {
    "name": "ipython",
    "version": 3
   },
   "file_extension": ".py",
   "mimetype": "text/x-python",
   "name": "python",
   "nbconvert_exporter": "python",
   "pygments_lexer": "ipython3",
   "version": "3.13.5"
  }
 },
 "nbformat": 4,
 "nbformat_minor": 5
}
