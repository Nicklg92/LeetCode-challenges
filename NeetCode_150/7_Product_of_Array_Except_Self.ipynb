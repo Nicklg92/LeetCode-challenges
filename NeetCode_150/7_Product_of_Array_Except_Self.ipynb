{
 "cells": [
  {
   "cell_type": "code",
   "execution_count": 1,
   "id": "b325f3d5-42df-48e6-89c8-108d1acae842",
   "metadata": {},
   "outputs": [],
   "source": [
    "#7 Product of Array Except Self"
   ]
  },
  {
   "cell_type": "code",
   "execution_count": 12,
   "id": "7493af09-373a-48ba-a13c-fcec42746536",
   "metadata": {},
   "outputs": [],
   "source": [
    "#My quadratic solution, considering the math library. Achieved in 6 minutes and 6 seconds. Not sure about the time\n",
    "#complexity to be honest.\n",
    "\n",
    "#Regardless, mine works on NeetCode but not on LeetCode, as it exceeds the time limit on a testcase (being quadratic I suppose)."
   ]
  },
  {
   "cell_type": "code",
   "execution_count": 13,
   "id": "c1485d14-e4c0-4983-ba46-6c3d0bf99fd0",
   "metadata": {},
   "outputs": [],
   "source": [
    "from typing import List\n",
    "import math\n",
    "\n",
    "class Solution:\n",
    "    def productExceptSelf(self, nums: List[int]) -> List[int]:\n",
    "\n",
    "        prods = []\n",
    "\n",
    "        for i in range(len(nums)):\n",
    "            if nums[i] == 0:\n",
    "                tmp = nums[0:i] + nums[i+1:]\n",
    "                prods.append(math.prod(tmp))\n",
    "            else:\n",
    "                prods.append(math.prod(nums) / nums[i])\n",
    "        \n",
    "        return [int(x) for x in prods]"
   ]
  },
  {
   "cell_type": "code",
   "execution_count": 14,
   "id": "af357667-14dc-4d45-b955-105355268699",
   "metadata": {},
   "outputs": [],
   "source": [
    "#Worth reviewing the solution with Prefix and Suffix, as it is optimal and good reminder on this topic:"
   ]
  },
  {
   "cell_type": "code",
   "execution_count": 15,
   "id": "d354cecf-562e-43a8-8f56-3cefbaf57e82",
   "metadata": {},
   "outputs": [],
   "source": [
    "class Solution:\n",
    "    def productExceptSelf(self, nums: List[int]) -> List[int]:\n",
    "        res = [1] * (len(nums))\n",
    "\n",
    "        prefix = 1\n",
    "        for i in range(len(nums)):\n",
    "            res[i] = prefix\n",
    "            prefix *= nums[i]\n",
    "        postfix = 1\n",
    "        for i in range(len(nums) - 1, -1, -1):\n",
    "            res[i] *= postfix\n",
    "            postfix *= nums[i]\n",
    "        return res"
   ]
  },
  {
   "cell_type": "code",
   "execution_count": 16,
   "id": "4a24d01a-0ec8-4076-b516-6e6a43323199",
   "metadata": {},
   "outputs": [],
   "source": [
    "#Let nums = [-1,0,1,2,3]\n",
    "\n",
    "#res = [1] * (len(nums)) => res = [1,1,1,1,1]\n",
    "\n",
    "#prefix = 1\n",
    "\n",
    "#for i in range(len(nums)): \n",
    "\n",
    "#i = 0\n",
    "#res[0] = prefix => res[0] = 1\n",
    "#prefix *= nums[0] => prefix *= -1 => prefix = -1\n",
    "#i = 1\n",
    "#res[1] = prefix => res[1] = -1\n",
    "#prefix *= nums[1] => prefix *= 0 => prefix = 0\n",
    "#i = 2\n",
    "#res[2] = prefix => res[2] = 0\n",
    "#prefix *= nums[2] => prefix *= 1 => prefix = 0\n",
    "#i = 3\n",
    "#res[3] = prefix => res[3] = 0\n",
    "#prefix *= nums[3] => prefix *= 2 => prefix = 0\n",
    "#i = 4\n",
    "#res[4] = prefix => res[4] = 0\n",
    "#prefix *= nums[4] => prefix *= 3 => prefix = 0\n",
    "\n",
    "#res = [1, -1, 0, 0, 0]\n",
    "#postfix = 1\n",
    "\n",
    "#for i in range(len(nums) - 1, -1, -1):\n",
    "    #res[i] *= postfix\n",
    "    #postfix *= nums[i]\n",
    "\n",
    "#i = 4\n",
    "#res[4] *= postfix => res[4] = 0 * 1 = 0\n",
    "#postifx *= nums[4] => postifx = 1 * 3 = 3\n",
    "#i = 3\n",
    "#res[3] *= postfix => res[3] = 0 * 3 = 0\n",
    "#postifx *= nums[3] => postifx = 3 * 2 = 6\n",
    "#i = 2\n",
    "#res[2] *= postfix => res[2] = 0 * 6 = 0\n",
    "#postifx *= nums[2] => postifx = 6 * 1 = 6\n",
    "#i = 1\n",
    "#res[1] *= postfix => res[1] = -1 * 6 = -6\n",
    "#postifx *= nums[1] => postifx = 6 * 0 = 0\n",
    "#i = 0\n",
    "#res[0] *= postfix => res[0] = 1 * 0 = 0\n",
    "#postifx *= nums[0] => postifx = 0 * 1 = 0\n",
    "\n",
    "#res = [0, -6, 0, 0, 0] as expected\n"
   ]
  },
  {
   "cell_type": "code",
   "execution_count": null,
   "id": "27ef5362-6185-4a86-ad39-94652a520dc5",
   "metadata": {},
   "outputs": [],
   "source": []
  }
 ],
 "metadata": {
  "kernelspec": {
   "display_name": "Python 3 (ipykernel)",
   "language": "python",
   "name": "python3"
  },
  "language_info": {
   "codemirror_mode": {
    "name": "ipython",
    "version": 3
   },
   "file_extension": ".py",
   "mimetype": "text/x-python",
   "name": "python",
   "nbconvert_exporter": "python",
   "pygments_lexer": "ipython3",
   "version": "3.13.5"
  }
 },
 "nbformat": 4,
 "nbformat_minor": 5
}
