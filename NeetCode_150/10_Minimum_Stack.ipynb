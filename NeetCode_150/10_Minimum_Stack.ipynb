{
 "cells": [
  {
   "cell_type": "code",
   "execution_count": 3,
   "id": "98350074-0b6b-4073-b2da-772b6fc06e2e",
   "metadata": {},
   "outputs": [],
   "source": [
    "#Implementing a Minimum Stack using Dynamic Arrays (Lists)"
   ]
  },
  {
   "cell_type": "code",
   "execution_count": 4,
   "id": "ae2f80bf-4d81-4a7a-b23c-5a3dd9d50872",
   "metadata": {},
   "outputs": [],
   "source": [
    "class MinStack:\n",
    "\n",
    "    def __init__(self):\n",
    "\n",
    "        self.stack = []\n",
    "        \n",
    "\n",
    "    def push(self, val: int) -> None:\n",
    "        self.stack.append(val)\n",
    "        return\n",
    "        \n",
    "\n",
    "    def pop(self) -> None:\n",
    "        del self.stack[-1]\n",
    "        return\n",
    "        \n",
    "\n",
    "    def top(self) -> int:\n",
    "        return self.stack[-1]\n",
    "\n",
    "    def getMin(self) -> int:\n",
    "        return min(self.stack)\n",
    "        \n"
   ]
  },
  {
   "cell_type": "code",
   "execution_count": 11,
   "id": "6dc7b985-950e-4792-a452-3262fe3b04a5",
   "metadata": {},
   "outputs": [],
   "source": [
    "#Some useful reminders here:"
   ]
  },
  {
   "cell_type": "code",
   "execution_count": 13,
   "id": "6502921d-02fc-4c2e-822e-e5b3a0887dff",
   "metadata": {},
   "outputs": [
    {
     "data": {
      "text/plain": [
       "<__main__.MinStack at 0x23d5cb96ea0>"
      ]
     },
     "execution_count": 13,
     "metadata": {},
     "output_type": "execute_result"
    }
   ],
   "source": [
    "a = MinStack()\n",
    "a"
   ]
  },
  {
   "cell_type": "code",
   "execution_count": 20,
   "id": "4502afae-459f-4d70-9bfd-06265e0c26c1",
   "metadata": {},
   "outputs": [],
   "source": [
    "#b = MinStack(1) or b = MinStack([1,2,3]) throw both errors. Nothing is included in the constructor."
   ]
  },
  {
   "cell_type": "code",
   "execution_count": 21,
   "id": "c0d4b362-3282-4290-a8c1-9615d44805ff",
   "metadata": {},
   "outputs": [],
   "source": [
    "a.push(1)"
   ]
  },
  {
   "cell_type": "code",
   "execution_count": 22,
   "id": "24318f6b-5b43-4cba-bf55-6f9a99c5c819",
   "metadata": {},
   "outputs": [
    {
     "name": "stdout",
     "output_type": "stream",
     "text": [
      "<__main__.MinStack object at 0x0000023D5CB96EA0>\n"
     ]
    }
   ],
   "source": [
    "print(a)"
   ]
  },
  {
   "cell_type": "code",
   "execution_count": 23,
   "id": "da2aa570-f729-42e0-b09a-fe51a191006a",
   "metadata": {},
   "outputs": [],
   "source": [
    "a.push(2)"
   ]
  },
  {
   "cell_type": "code",
   "execution_count": 24,
   "id": "1c3ff5d6-4d30-4fae-ab5a-5293349f7e6a",
   "metadata": {},
   "outputs": [
    {
     "data": {
      "text/plain": [
       "<__main__.MinStack at 0x23d5cb96ea0>"
      ]
     },
     "execution_count": 24,
     "metadata": {},
     "output_type": "execute_result"
    }
   ],
   "source": [
    "a"
   ]
  },
  {
   "cell_type": "code",
   "execution_count": 26,
   "id": "652b6387-6cd3-417a-a624-276822e6b263",
   "metadata": {},
   "outputs": [
    {
     "data": {
      "text/plain": [
       "2"
      ]
     },
     "execution_count": 26,
     "metadata": {},
     "output_type": "execute_result"
    }
   ],
   "source": [
    "a.top()"
   ]
  },
  {
   "cell_type": "code",
   "execution_count": 27,
   "id": "436f915f-d650-49fd-afc1-614841631953",
   "metadata": {},
   "outputs": [
    {
     "data": {
      "text/plain": [
       "1"
      ]
     },
     "execution_count": 27,
     "metadata": {},
     "output_type": "execute_result"
    }
   ],
   "source": [
    "a.getMin()"
   ]
  },
  {
   "cell_type": "code",
   "execution_count": null,
   "id": "36bb4547-2f15-4c2d-a54d-a5a2d6980b1e",
   "metadata": {},
   "outputs": [],
   "source": []
  }
 ],
 "metadata": {
  "kernelspec": {
   "display_name": "Python 3 (ipykernel)",
   "language": "python",
   "name": "python3"
  },
  "language_info": {
   "codemirror_mode": {
    "name": "ipython",
    "version": 3
   },
   "file_extension": ".py",
   "mimetype": "text/x-python",
   "name": "python",
   "nbconvert_exporter": "python",
   "pygments_lexer": "ipython3",
   "version": "3.13.5"
  }
 },
 "nbformat": 4,
 "nbformat_minor": 5
}
