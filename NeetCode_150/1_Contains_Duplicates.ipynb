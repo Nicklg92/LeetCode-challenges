{
 "cells": [
  {
   "cell_type": "code",
   "execution_count": 1,
   "id": "716f6a49-4d17-4b4d-b9aa-6f51f8000bc4",
   "metadata": {},
   "outputs": [],
   "source": [
    "#1 Contains Duplicates\n",
    "\n",
    "#Return True if any value appears more than once in the array"
   ]
  },
  {
   "cell_type": "code",
   "execution_count": 3,
   "id": "f216dbcc-57c5-4e4d-83dd-9ab79f4e2406",
   "metadata": {},
   "outputs": [],
   "source": [
    "#My solution, time complexity O(n*log(n))\n",
    "\n",
    "from typing import List\n",
    "\n",
    "class Solution:\n",
    "    def hasDuplicate(self, nums: List[int]) -> bool:\n",
    "        return sorted(list(set(nums))) != sorted(nums)\n",
    "        "
   ]
  },
  {
   "cell_type": "code",
   "execution_count": 4,
   "id": "60ddd07d-11e2-40b8-84a7-db280f1576a0",
   "metadata": {},
   "outputs": [],
   "source": [
    "#For O(n) time complexity, hash sets solutions:\n",
    "\n",
    "class Solution:\n",
    "    def hasDuplicate(self, nums: List[int]) -> bool:\n",
    "        seen = set()\n",
    "        for num in nums:\n",
    "            if num in seen:\n",
    "                return True\n",
    "            seen.add(num)\n",
    "        return False"
   ]
  },
  {
   "cell_type": "code",
   "execution_count": null,
   "id": "5a2ba691-221e-40b0-91c0-5ad042ccd489",
   "metadata": {},
   "outputs": [],
   "source": []
  }
 ],
 "metadata": {
  "kernelspec": {
   "display_name": "Python 3 (ipykernel)",
   "language": "python",
   "name": "python3"
  },
  "language_info": {
   "codemirror_mode": {
    "name": "ipython",
    "version": 3
   },
   "file_extension": ".py",
   "mimetype": "text/x-python",
   "name": "python",
   "nbconvert_exporter": "python",
   "pygments_lexer": "ipython3",
   "version": "3.13.5"
  }
 },
 "nbformat": 4,
 "nbformat_minor": 5
}
