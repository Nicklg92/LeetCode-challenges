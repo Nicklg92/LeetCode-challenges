{
 "cells": [
  {
   "cell_type": "code",
   "execution_count": 10,
   "id": "c7ed9495-1787-4e17-a153-19f28043e4e4",
   "metadata": {},
   "outputs": [],
   "source": [
    "#4 Group Anagrams\n",
    "\n",
    "#Attempted for 58 minutes, I managed to get 18 test cases but nothing more."
   ]
  },
  {
   "cell_type": "code",
   "execution_count": 11,
   "id": "50c5a25b-0009-4880-a7f2-d3ca6ee07e68",
   "metadata": {},
   "outputs": [
    {
     "data": {
      "text/plain": [
       "'\\nclass Solution:\\n    def groupAnagrams(self, strs: List[str]) -> List[List[str]]:\\n        all_anagrams = []\\n        for i in range(len(strs)):\\n            tmp = []\\n            for j in range(len(strs)):\\n                if set(strs[i]) == set(strs[j]):\\n                    tmp.append(strs[j])\\n            all_anagrams.append(tmp)\\n        print(all_anagrams)\\n        unique = []\\n        seen = set()\\n        for lst in all_anagrams:\\n            t = tuple(lst)\\n            if t not in seen:\\n                seen.add(t)\\n                unique.append(lst)\\n        return unique\\n'"
      ]
     },
     "execution_count": 11,
     "metadata": {},
     "output_type": "execute_result"
    }
   ],
   "source": [
    "#NOT WORKING, PROPOSED BY ME AFTER 58 MINUTES\n",
    "\n",
    "\"\"\"\n",
    "class Solution:\n",
    "    def groupAnagrams(self, strs: List[str]) -> List[List[str]]:\n",
    "        all_anagrams = []\n",
    "        for i in range(len(strs)):\n",
    "            tmp = []\n",
    "            for j in range(len(strs)):\n",
    "                if set(strs[i]) == set(strs[j]):\n",
    "                    tmp.append(strs[j])\n",
    "            all_anagrams.append(tmp)\n",
    "        print(all_anagrams)\n",
    "        unique = []\n",
    "        seen = set()\n",
    "        for lst in all_anagrams:\n",
    "            t = tuple(lst)\n",
    "            if t not in seen:\n",
    "                seen.add(t)\n",
    "                unique.append(lst)\n",
    "        return unique\n",
    "\"\"\"\n",
    "#Failed after 58 minutes. All the two proposed solutions\n",
    "#consider defaultdict, which I did not remember.\n",
    "#Best solution I suggested made 18/25. \n"
   ]
  },
  {
   "cell_type": "code",
   "execution_count": null,
   "id": "a05e7927-e0e3-42be-8a35-cabf703974ff",
   "metadata": {},
   "outputs": [],
   "source": [
    "#The actual solutions provided. They both involve res = defaultdict(list), which I don't remember nor know how it works.\n",
    "\n",
    "#FIRST SOLUTION, SORTING"
   ]
  },
  {
   "cell_type": "code",
   "execution_count": null,
   "id": "5839f173-2842-4a70-9b09-98d725d6f638",
   "metadata": {},
   "outputs": [],
   "source": [
    "from collections import defaultdict\n",
    "from typing import List\n",
    "\n",
    "class Solution:\n",
    "    def groupAnagrams(self, strs: List[str]) -> List[List[str]]:\n",
    "        res = defaultdict(list)\n",
    "        for s in strs:\n",
    "            sortedS = ''.join(sorted(s))\n",
    "            res[sortedS].append(s)\n",
    "        return list(res.values())"
   ]
  },
  {
   "cell_type": "code",
   "execution_count": 20,
   "id": "3d31235a-1826-480e-a3a8-1b74085da91b",
   "metadata": {},
   "outputs": [
    {
     "name": "stdout",
     "output_type": "stream",
     "text": [
      "defaultdict(<class 'list'>, {})\n"
     ]
    }
   ],
   "source": [
    "#Let's start unpacking:\n",
    "\n",
    "res = defaultdict(list)\n",
    "print(res)"
   ]
  },
  {
   "cell_type": "code",
   "execution_count": 21,
   "id": "1f4494e3-6948-4b18-9f45-94a91bd6de16",
   "metadata": {},
   "outputs": [],
   "source": [
    "#The core difference between defaultdict and a normal dictionary is that if in the former you try to access a key that is not\n",
    "#there, a new key will be generated accordingly, with a default value (say, 0). The parameter that is passed in the constructor\n",
    "#identifies what types are the values. \n",
    "\n",
    "#As a reminder, instead, if in a normal dictionary you try to access a non-exisiting key, an error will be thrown. "
   ]
  },
  {
   "cell_type": "code",
   "execution_count": 22,
   "id": "f5cd3b22-2bf1-4b4f-afbf-de169df5f980",
   "metadata": {},
   "outputs": [],
   "source": [
    "#Then, let:\n",
    "strs = [\"act\",\"pots\",\"tops\",\"cat\",\"stop\",\"hat\"]"
   ]
  },
  {
   "cell_type": "code",
   "execution_count": 23,
   "id": "f8455975-4e33-4aac-ba7b-8dc898906de5",
   "metadata": {},
   "outputs": [
    {
     "name": "stdout",
     "output_type": "stream",
     "text": [
      "act ['a', 'c', 't']\n",
      "opst ['o', 'p', 's', 't']\n",
      "opst ['o', 'p', 's', 't']\n",
      "act ['a', 'c', 't']\n",
      "opst ['o', 'p', 's', 't']\n",
      "aht ['a', 'h', 't']\n"
     ]
    }
   ],
   "source": [
    "#As a starter, how does sorting a string work?\n",
    "\n",
    "for s in strs:\n",
    "    sortedS = ''.join(sorted(s))\n",
    "    other_sorted = sorted(s)\n",
    "    print(sortedS, other_sorted)"
   ]
  },
  {
   "cell_type": "code",
   "execution_count": 24,
   "id": "be380a8f-fb90-4f05-841d-5f72d9df9bf5",
   "metadata": {},
   "outputs": [],
   "source": [
    "#When you have a string s, if you simply call sorted(s), it is gonna automatically create a sorted list out of it.\n",
    "#If instead you want to sort it, but still keep it as a string, you need also ''.join. More precisely, ''.join(sorted(s)).\n",
    "\n",
    "#Hence, with that cleared, the rest of the code looks like:"
   ]
  },
  {
   "cell_type": "code",
   "execution_count": 25,
   "id": "c5a49e44-b17e-466c-85a7-3d28795eb94d",
   "metadata": {},
   "outputs": [
    {
     "name": "stdout",
     "output_type": "stream",
     "text": [
      "act\n",
      "defaultdict(<class 'list'>, {'act': ['act']})\n",
      "----\n",
      "opst\n",
      "defaultdict(<class 'list'>, {'act': ['act'], 'opst': ['pots']})\n",
      "----\n",
      "opst\n",
      "defaultdict(<class 'list'>, {'act': ['act'], 'opst': ['pots', 'tops']})\n",
      "----\n",
      "act\n",
      "defaultdict(<class 'list'>, {'act': ['act', 'cat'], 'opst': ['pots', 'tops']})\n",
      "----\n",
      "opst\n",
      "defaultdict(<class 'list'>, {'act': ['act', 'cat'], 'opst': ['pots', 'tops', 'stop']})\n",
      "----\n",
      "aht\n",
      "defaultdict(<class 'list'>, {'act': ['act', 'cat'], 'opst': ['pots', 'tops', 'stop'], 'aht': ['hat']})\n",
      "----\n"
     ]
    }
   ],
   "source": [
    "for s in strs:\n",
    "    sortedS = ''.join(sorted(s))\n",
    "    print(sortedS)\n",
    "    res[sortedS].append(s)\n",
    "    print(res)\n",
    "    print(\"----\")\n",
    "    #In other words, for each string in strs, we first create its sorted version in ascending order (a > b > c ....), and assign it to sortedS.\n",
    "    #Clearly, it will be unique for each different anagram in the list.\n",
    "    \n",
    "    #Then, we use it as key (no errors if not there, thanks to defaultdict in case initializing an empty list) to access the associated newly created \n",
    "    #empty list (default in defaultdict if the key was not there) or the already existing and adding to it the original unsorted string s."
   ]
  },
  {
   "cell_type": "code",
   "execution_count": 27,
   "id": "b457d83f-afc9-4ae4-a890-f79535cb4bd2",
   "metadata": {},
   "outputs": [
    {
     "name": "stdout",
     "output_type": "stream",
     "text": [
      "[['act', 'cat'], ['pots', 'tops', 'stop'], ['hat']]\n"
     ]
    }
   ],
   "source": [
    "#return list(res.values())\n",
    "\n",
    "print(list(res.values()))"
   ]
  },
  {
   "cell_type": "code",
   "execution_count": 28,
   "id": "1d3270e9-e143-4a07-a712-44de442808ef",
   "metadata": {},
   "outputs": [],
   "source": [
    "#While the keys of the dictionary remain the sorted characters (possibly nonsensical words), its values are the various\n",
    "#anagrams available indeed."
   ]
  },
  {
   "cell_type": "code",
   "execution_count": 49,
   "id": "46379bd3-dcfb-429f-92db-e1739227b3fe",
   "metadata": {},
   "outputs": [],
   "source": [
    "#SECOND SOLUTION PROVIDED: HASH TABLE\n",
    "\n",
    "class Solution:\n",
    "    def groupAnagrams(self, strs: List[str]) -> List[List[str]]:\n",
    "        res = defaultdict(list)\n",
    "        for s in strs:\n",
    "            count = [0] * 26\n",
    "            for c in s:\n",
    "                count[ord(c) - ord('a')] += 1\n",
    "            res[tuple(count)].append(s)\n",
    "            print(res[tuple(count)])\n",
    "        print(res)\n",
    "        return list(res.values())\n",
    "\n"
   ]
  },
  {
   "cell_type": "code",
   "execution_count": 50,
   "id": "d4dd014a-a04d-428a-bbd5-1372568087b8",
   "metadata": {},
   "outputs": [
    {
     "name": "stdout",
     "output_type": "stream",
     "text": [
      "['act']\n",
      "['pots']\n",
      "['pots', 'tops']\n",
      "['act', 'cat']\n",
      "['pots', 'tops', 'stop']\n",
      "['hat']\n",
      "defaultdict(<class 'list'>, {(1, 0, 1, 0, 0, 0, 0, 0, 0, 0, 0, 0, 0, 0, 0, 0, 0, 0, 0, 1, 0, 0, 0, 0, 0, 0): ['act', 'cat'], (0, 0, 0, 0, 0, 0, 0, 0, 0, 0, 0, 0, 0, 0, 1, 1, 0, 0, 1, 1, 0, 0, 0, 0, 0, 0): ['pots', 'tops', 'stop'], (1, 0, 0, 0, 0, 0, 0, 1, 0, 0, 0, 0, 0, 0, 0, 0, 0, 0, 0, 1, 0, 0, 0, 0, 0, 0): ['hat']})\n"
     ]
    },
    {
     "data": {
      "text/plain": [
       "[['act', 'cat'], ['pots', 'tops', 'stop'], ['hat']]"
      ]
     },
     "execution_count": 50,
     "metadata": {},
     "output_type": "execute_result"
    }
   ],
   "source": [
    "Sol = Solution()\n",
    "Sol.groupAnagrams(strs = [\"act\",\"pots\",\"tops\",\"cat\",\"stop\",\"hat\"])"
   ]
  },
  {
   "cell_type": "code",
   "execution_count": 44,
   "id": "cfb39b5d-4197-4452-a83c-c9142910efcf",
   "metadata": {},
   "outputs": [
    {
     "ename": "_IncompleteInputError",
     "evalue": "incomplete input (2134122731.py, line 21)",
     "output_type": "error",
     "traceback": [
      "  \u001b[36mCell\u001b[39m\u001b[36m \u001b[39m\u001b[32mIn[44]\u001b[39m\u001b[32m, line 21\u001b[39m\n\u001b[31m    \u001b[39m\n    ^\n\u001b[31m_IncompleteInputError\u001b[39m\u001b[31m:\u001b[39m incomplete input\n"
     ]
    }
   ],
   "source": [
    "res = defaultdict(list)\n",
    "for s in strs:\n",
    "   \n",
    "    count = [0] * 26\n",
    "    \n",
    "    #res defined as before. However, in this case, we also initialize a list of length 26 of all 0s.\n",
    "    \n",
    "    for c in s:\n",
    "\n",
    "        #this time, we go deeper into iterating also over the string itself.\n",
    "        #Again, let strs =  [\"act\",\"pots\",\"tops\",\"cat\",\"stop\",\"hat\"].\n",
    "        #Then, we start iterating over \"a\", \"c\", and \"t\".\n",
    "        \n",
    "        count[ord(c) - ord('a')] += 1      \n",
    "        #count[ord(c) - ord('a')] += 1 => count[ord('a') - ord('a')] = count[0] += 1 => count[0] = 1\n",
    "        #count[ord(c) - ord('a')] += 1 => count[ord('c') - ord('a')] = count[2] += 1 => count[2] = 1\n",
    "        #count[ord(c) - ord('a')] += 1 => count[ord('t') - ord('a')] = count[19] += 1 => count[19] = 1\n",
    "\n",
    "    res[tuple(count)].append(s) \n",
    "    #=> So now count is a tuple whose values are all 0s but the indexed 0, 2, and 19. We are also creating a key-value \n",
    "    #pair, whose key is the aforementioned tuple count and the value is the a list to which we are appending the string s.\n",
    "\n",
    "    #In other words, each anagram of a string will get appended to the list pointed by the key having as 1s exclusively the entries that \n",
    "    #represent the position in the alphabet of the individual characters in the string. \n",
    "    \n",
    "\n",
    "\n",
    "\n",
    "        \n",
    "    \n",
    "\n",
    "\n"
   ]
  },
  {
   "cell_type": "code",
   "execution_count": 36,
   "id": "0e191ed6-5f83-4773-b8f5-3c56da04a394",
   "metadata": {},
   "outputs": [
    {
     "data": {
      "text/plain": [
       "19"
      ]
     },
     "execution_count": 36,
     "metadata": {},
     "output_type": "execute_result"
    }
   ],
   "source": [
    "ord('t') - ord('a') #2 - 1 = 1\n",
    "#ord('c') - ord('a') #3 - 1 = 2\n",
    "#ord() returns the position in the alphabet the letter is at. 'a' = 1, z = '26'\n",
    "#ord('z') - ord('a') #36 - 1 = 25\n"
   ]
  },
  {
   "cell_type": "code",
   "execution_count": null,
   "id": "f5f0d3ba-f9da-42fd-8c1d-ed508aa12b9c",
   "metadata": {},
   "outputs": [],
   "source": []
  }
 ],
 "metadata": {
  "kernelspec": {
   "display_name": "Python 3 (ipykernel)",
   "language": "python",
   "name": "python3"
  },
  "language_info": {
   "codemirror_mode": {
    "name": "ipython",
    "version": 3
   },
   "file_extension": ".py",
   "mimetype": "text/x-python",
   "name": "python",
   "nbconvert_exporter": "python",
   "pygments_lexer": "ipython3",
   "version": "3.13.5"
  }
 },
 "nbformat": 4,
 "nbformat_minor": 5
}
