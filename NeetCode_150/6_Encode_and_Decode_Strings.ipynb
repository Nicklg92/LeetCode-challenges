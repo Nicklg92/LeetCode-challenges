{
 "cells": [
  {
   "cell_type": "code",
   "execution_count": 2,
   "id": "5ca0f3ea-eff4-4db8-99a9-33f6f9036242",
   "metadata": {},
   "outputs": [],
   "source": [
    "#6 Encode and Decode Strings\n",
    "\n",
    "#Attempted for about one hour. I had the intuition of also attaching the lengths of the different word at the \n",
    "#string outputted by encode, but couldn't find a manner to do it scalably. For instance, a digit of \"10\", indicating the length\n",
    "#of a word, would end up split.\n",
    "\n",
    "#My attempt, for legacy at least:"
   ]
  },
  {
   "cell_type": "code",
   "execution_count": 22,
   "id": "cb9b2b63-8202-4dd9-a2d9-be7dafd4cffd",
   "metadata": {},
   "outputs": [],
   "source": [
    "from typing import List\n",
    "\n",
    "class Solution:\n",
    "       \n",
    "    def encode(self, strs: List[str]) -> str:\n",
    "\n",
    "        lengths = []\n",
    "\n",
    "        for i in strs:\n",
    "\n",
    "            lengths.append(len(i))\n",
    "\n",
    "        lengths_strs = [str(x) for x in lengths]\n",
    "\n",
    "        s = ''.join(strs)\n",
    "\n",
    "        s = s + str(lengths_strs)\n",
    "\n",
    "        return s\n",
    "\n",
    "    def decode(self, s: str) -> List[str]:\n",
    "\n",
    "        lengths_to_subset = []\n",
    "\n",
    "        print(s)\n",
    "\n",
    "        for i in s:\n",
    "\n",
    "            try:\n",
    "                lengths_to_subset.append(int(i))\n",
    "            except:\n",
    "                pass\n",
    "\n",
    "        s = s[:-len(lengths_to_subset)]\n",
    "\n",
    "        final_output = []\n",
    "\n",
    "        print(s, lengths_to_subset)\n",
    "\n",
    "        i = 0\n",
    "\n",
    "\n",
    "        for l in lengths_to_subset:\n",
    "            final_output.append(s[i:i+l])\n",
    "            i += l\n",
    "\n",
    "\n",
    "\n",
    "        return final_output\n",
    "\n",
    "\n",
    "#1 hour and 2 minutes, failed. Honestly not far actually,\n",
    "#also the proposed solutions (including the optimal)\n",
    "#suggest adding the length to perform the subsetting.\n",
    "#The trick (or simply hint) I did not see nor think to\n",
    "#properly separate the lengths was adding a special character\n",
    "#like \"#\", but honestly how does not it confound with the\n",
    "#cases where \"#\" is itself a legit character?"
   ]
  },
  {
   "cell_type": "code",
   "execution_count": 23,
   "id": "832d66cb-349a-4bbf-abed-55a8c041044a",
   "metadata": {},
   "outputs": [],
   "source": [
    "#And here the optimized version. As can be seen, is very similar:"
   ]
  },
  {
   "cell_type": "code",
   "execution_count": 24,
   "id": "90667263-49fa-4e40-9f97-1e15124805c8",
   "metadata": {},
   "outputs": [],
   "source": [
    "class Solution:\n",
    "\n",
    "    def encode(self, strs: List[str]) -> str:\n",
    "        res = \"\"\n",
    "        for s in strs:\n",
    "            res += str(len(s)) + \"#\" + s\n",
    "        return res\n",
    "\n",
    "    def decode(self, s: str) -> List[str]:\n",
    "        res = []\n",
    "        i = 0\n",
    "\n",
    "        while i < len(s):\n",
    "            j = i\n",
    "            while s[j] != '#':\n",
    "                j += 1\n",
    "            length = int(s[i:j])\n",
    "            i = j + 1\n",
    "            j = i + length\n",
    "            res.append(s[i:j])\n",
    "            i = j\n",
    "\n",
    "        return res"
   ]
  },
  {
   "cell_type": "code",
   "execution_count": 25,
   "id": "46015ce1-4262-4bb5-b253-bb597c5edd4d",
   "metadata": {},
   "outputs": [
    {
     "name": "stdout",
     "output_type": "stream",
     "text": [
      "17\n"
     ]
    },
    {
     "data": {
      "text/plain": [
       "'2#we3#say1#:3#yes'"
      ]
     },
     "execution_count": 25,
     "metadata": {},
     "output_type": "execute_result"
    }
   ],
   "source": [
    "sol = Solution()\n",
    "print(len('2#we3#say1#:3#yes'))\n",
    "sol.encode([\"we\",\"say\",\":\",\"yes\"])"
   ]
  },
  {
   "cell_type": "code",
   "execution_count": 26,
   "id": "1216d432-c3c0-4730-aff6-0b0d1a044393",
   "metadata": {},
   "outputs": [
    {
     "data": {
      "text/plain": [
       "['we', 'say', ':', 'yes']"
      ]
     },
     "execution_count": 26,
     "metadata": {},
     "output_type": "execute_result"
    }
   ],
   "source": [
    "sol.decode(sol.encode([\"we\",\"say\",\":\",\"yes\"]))"
   ]
  },
  {
   "cell_type": "code",
   "execution_count": 27,
   "id": "8ee7687b-73ad-4962-a429-fb6c2160a438",
   "metadata": {},
   "outputs": [
    {
     "name": "stdout",
     "output_type": "stream",
     "text": [
      "we\n",
      "say\n"
     ]
    }
   ],
   "source": [
    "#Quick lookup throgh '2#we3#say1#:3#yes' and decode:\n",
    "\n",
    "s = '2#we3#say1#:3#yes'\n",
    "#while i < len(s): => i = 0 < len(s) = 17, while is True\n",
    "\n",
    "#j = i = 0\n",
    "#while s[j] != '#':\n",
    "#j += 1\n",
    "#s[1] == \"#\" so we break the while at j = 1\n",
    "#length = int(s[i:j]) = int(s[0:1]) = int(s[0]) = 2 -> this is the core point I missed. Here int(s[i:j]) ensures that you capture the entire number (even if more than one digit).\n",
    "#i = j + 1 = 1 + 1 = 2\n",
    "#j = i + length = 2 + 2 = 4\n",
    "#res.append(s[i:j]) = res.append(s[2:4])\n",
    "print(s[2:4])\n",
    "#i = j => i = 4\n",
    "\n",
    "#while i < len(s): => i = 3 < len(s) = 17, while is True\n",
    "\n",
    "#j = i = 4\n",
    "#while s[j] != '#':\n",
    "#j += 1\n",
    "#s[5] == \"#\" so we break the while at j = 5\n",
    "#length = int(s[i:j]) = int(s[4:5]) = int(s[4]) = 3 -> this is the core point I missed. Here int(s[i:j]) ensures that you capture the entire number (even if more than one digit).\n",
    "#i = 5 + 1 = 5 + 1 = 6\n",
    "#j = i + length = 6 + 3 = 9\n",
    "#res.append(s[i:j]) = res.append(s[6:9])\n",
    "print(s[6:9])\n",
    "#i = j => i = 9\n",
    "\n",
    "#Etc etc...\n",
    "\n"
   ]
  },
  {
   "cell_type": "code",
   "execution_count": null,
   "id": "76ced826-e7d4-4aca-96f7-8e362a9b6c12",
   "metadata": {},
   "outputs": [],
   "source": []
  },
  {
   "cell_type": "code",
   "execution_count": null,
   "id": "5c93096c-e016-4e8a-8059-29548f0bbfbb",
   "metadata": {},
   "outputs": [],
   "source": []
  }
 ],
 "metadata": {
  "kernelspec": {
   "display_name": "Python 3 (ipykernel)",
   "language": "python",
   "name": "python3"
  },
  "language_info": {
   "codemirror_mode": {
    "name": "ipython",
    "version": 3
   },
   "file_extension": ".py",
   "mimetype": "text/x-python",
   "name": "python",
   "nbconvert_exporter": "python",
   "pygments_lexer": "ipython3",
   "version": "3.13.5"
  }
 },
 "nbformat": 4,
 "nbformat_minor": 5
}
