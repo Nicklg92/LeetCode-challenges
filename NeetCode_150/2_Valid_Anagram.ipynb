{
 "cells": [
  {
   "cell_type": "code",
   "execution_count": 1,
   "id": "fce76b85-0f43-4ce7-9f4a-e050d90f7903",
   "metadata": {},
   "outputs": [],
   "source": [
    "#2_Valid_Anagram"
   ]
  },
  {
   "cell_type": "code",
   "execution_count": 3,
   "id": "02cc7e9d-86fe-4474-a5e8-6c91bb088fef",
   "metadata": {},
   "outputs": [],
   "source": [
    "#My solution, O(n*log(n))\n",
    "\n",
    "class Solution:\n",
    "    def isAnagram(self, s: str, t: str) -> bool:\n",
    "        return sorted(s) == sorted(t)\n",
    "        "
   ]
  },
  {
   "cell_type": "code",
   "execution_count": null,
   "id": "0e5c93bc-3d2a-4041-b076-5f4b928c8ccf",
   "metadata": {},
   "outputs": [],
   "source": []
  }
 ],
 "metadata": {
  "kernelspec": {
   "display_name": "Python 3 (ipykernel)",
   "language": "python",
   "name": "python3"
  },
  "language_info": {
   "codemirror_mode": {
    "name": "ipython",
    "version": 3
   },
   "file_extension": ".py",
   "mimetype": "text/x-python",
   "name": "python",
   "nbconvert_exporter": "python",
   "pygments_lexer": "ipython3",
   "version": "3.13.5"
  }
 },
 "nbformat": 4,
 "nbformat_minor": 5
}
