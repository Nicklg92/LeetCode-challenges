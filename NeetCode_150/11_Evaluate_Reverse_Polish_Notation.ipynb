{
 "cells": [
  {
   "cell_type": "code",
   "execution_count": 1,
   "id": "2624203c-ad1e-418d-b811-3dbb2bb540a5",
   "metadata": {},
   "outputs": [],
   "source": [
    "#11 Evaluate Reverse Polish Notation"
   ]
  },
  {
   "cell_type": "code",
   "execution_count": 4,
   "id": "3b771278-a462-4a21-a335-bdb195e37c75",
   "metadata": {},
   "outputs": [],
   "source": [
    "from typing import List \n",
    "\n",
    "class Solution:\n",
    "    def evalRPN(self, tokens: List[str]) -> int:\n",
    "        #As per link, this is a case of stack application\n",
    "        #indeed.\n",
    "\n",
    "        #Consider tokens = [\"1\",\"2\",\"+\",\"3\",\"*\",\"4\",\"-\"]\n",
    "\n",
    "        #First, the \"1\" is put on top of the stack, and then\n",
    "        #the \"2\" on top of it, which therefore is now on top.\n",
    "        \n",
    "        #29 minutes and 46 seconds, I honestly don't know\n",
    "        \n",
    "        #The solution with stacks is quite intuitive. \n",
    "        #One thing to remember is that .pop() does the \n",
    "        #deletion in place.\n",
    "\n",
    "        #Only the stack solution here:\n",
    "\n",
    "        #07/10/2025, 17:29. Let me see if I can get it myself:\n",
    "\n",
    "        stack = []\n",
    "\n",
    "        for c in tokens:\n",
    "            if c == \"+\":\n",
    "                stack.append(stack.pop() + stack.pop())\n",
    "            elif c == \"-\":\n",
    "                #The same a, b assignation scheme as in division could have been used.\n",
    "                stack.append(-1 * stack.pop() + stack.pop())\n",
    "            elif c == \"*\":\n",
    "                stack.append(stack.pop() * stack.pop())\n",
    "            elif c == \"/\":\n",
    "                a, b = stack.pop(), stack.pop()\n",
    "                stack.append(int(b / a))\n",
    "            else:\n",
    "                stack.append(int(c))\n",
    "            print(stack)\n",
    "        return stack[0]\n",
    "\n",
    "\n"
   ]
  },
  {
   "cell_type": "code",
   "execution_count": null,
   "id": "626a1e87-50de-495d-a194-02dd70a5cb64",
   "metadata": {},
   "outputs": [],
   "source": []
  }
 ],
 "metadata": {
  "kernelspec": {
   "display_name": "Python 3 (ipykernel)",
   "language": "python",
   "name": "python3"
  },
  "language_info": {
   "codemirror_mode": {
    "name": "ipython",
    "version": 3
   },
   "file_extension": ".py",
   "mimetype": "text/x-python",
   "name": "python",
   "nbconvert_exporter": "python",
   "pygments_lexer": "ipython3",
   "version": "3.13.5"
  }
 },
 "nbformat": 4,
 "nbformat_minor": 5
}
