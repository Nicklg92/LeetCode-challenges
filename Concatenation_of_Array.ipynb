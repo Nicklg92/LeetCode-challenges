{
 "cells": [
  {
   "cell_type": "code",
   "execution_count": 1,
   "id": "a48074b5-14b5-44ed-927f-f122765df0df",
   "metadata": {},
   "outputs": [],
   "source": [
    "#Problem description:\n",
    "\n",
    "\n",
    "#You are given an integer array nums of length n. Create an array ans of length 2n where ans[i] == nums[i] \n",
    "#and ans[i + n] == nums[i] for 0 <= i < n (0-indexed).\n",
    "\n",
    "#Specifically, ans is the concatenation of two nums arrays.\n",
    "\n",
    "#Return the array ans.\n"
   ]
  },
  {
   "cell_type": "code",
   "execution_count": 3,
   "id": "ad184ef8-ad98-4f78-a3d9-3b4a8fe0f8d0",
   "metadata": {},
   "outputs": [],
   "source": [
    "#My solution, found in 3 minutes and 12 seconds:\n",
    "\n",
    "from typing import List\n",
    "\n",
    "class Solution:\n",
    "    def getConcatenation(self, nums: List[int]) -> List[int]:\n",
    "        nums = 2 * nums \n",
    "        ans = [0] * len(nums)\n",
    "        for i in range(len(nums)):\n",
    "            ans[i] = nums[i]\n",
    "        return ans\n",
    "\n",
    "#Error I did initially, did not initialize ans of the same length as nums, but just as an empty array. That would have worked if in the for loop,\n",
    "#instead of using equalities, I had used append."
   ]
  },
  {
   "cell_type": "code",
   "execution_count": 4,
   "id": "f9db0049-c036-43a4-b349-5f6c3720173d",
   "metadata": {},
   "outputs": [],
   "source": [
    "#First proposed solution:\n",
    "\n",
    "class Solution:\n",
    "    def getConcatenation(self, nums: List[int]) -> List[int]:\n",
    "        ans = []\n",
    "        for i in range(2):\n",
    "            for num in nums:\n",
    "                ans.append(num)\n",
    "        return ans\n",
    "\n",
    "#Time and space complexity are both O(n), but this method implies two iterations and for loops."
   ]
  },
  {
   "cell_type": "code",
   "execution_count": 6,
   "id": "0077b17f-b6fc-4009-aa6d-58a103f0562a",
   "metadata": {},
   "outputs": [],
   "source": [
    "#Second proposed solution:\n",
    "\n",
    "class Solution:\n",
    "    def getConcatenation(self, nums: List[int]) -> List[int]:\n",
    "        n = len(nums)\n",
    "        ans = [0] * (2 * n)\n",
    "        for i, num in enumerate(nums):\n",
    "            ans[i] = ans[i + n] = num\n",
    "        return ans\n",
    "\n",
    "#This as well O(n) for both space and time complexity. Fundamentally identical to mine. Recall that enumerate iterates, respectively, over indexes\n",
    "#and element of the array in nums."
   ]
  },
  {
   "cell_type": "code",
   "execution_count": null,
   "id": "cf791d84-4efe-4c98-8231-401fdfb4bfdd",
   "metadata": {},
   "outputs": [],
   "source": []
  }
 ],
 "metadata": {
  "kernelspec": {
   "display_name": "Python 3 (ipykernel)",
   "language": "python",
   "name": "python3"
  },
  "language_info": {
   "codemirror_mode": {
    "name": "ipython",
    "version": 3
   },
   "file_extension": ".py",
   "mimetype": "text/x-python",
   "name": "python",
   "nbconvert_exporter": "python",
   "pygments_lexer": "ipython3",
   "version": "3.13.5"
  }
 },
 "nbformat": 4,
 "nbformat_minor": 5
}
