{
 "cells": [
  {
   "cell_type": "code",
   "execution_count": 4,
   "id": "c4ca8e34-c8e4-4ae3-b7f6-20e4a80d6b4b",
   "metadata": {},
   "outputs": [],
   "source": [
    "#Binary Tree Level Order Traversal "
   ]
  },
  {
   "cell_type": "code",
   "execution_count": 5,
   "id": "ecec8313-f4cc-4936-9957-d84f173a6982",
   "metadata": {},
   "outputs": [],
   "source": [
    "#I was very close to the solution, not difficult indeed.\n",
    "\n",
    "from collections import deque\n",
    "from typing import List, Optional\n",
    "\n",
    "# Definition for a binary tree node.\n",
    "\n",
    "class TreeNode:\n",
    "     def __init__(self, val=0, left=None, right=None):\n",
    "         self.val = val\n",
    "         self.left = left\n",
    "         self.right = right\n",
    "\n",
    "class Solution:\n",
    "    def levelOrder(self, root: Optional[TreeNode]) -> List[List[int]]:\n",
    "        #The logic is that of the just seen order traversal plus appendings\n",
    "        #and list manipulation.\n",
    "\n",
    "        \"\"\"\n",
    "        queue = deque()\n",
    "\n",
    "        levels_lst = []\n",
    "        sublist = []\n",
    "\n",
    "        if root:\n",
    "            queue.append(root)\n",
    "\n",
    "        levels = 0\n",
    "        while len(queue) > 0:\n",
    "            curr_level = levels\n",
    "            if levels > curr_level:\n",
    "                levels_lst.append(sublist)\n",
    "            for i in range(len(queue)):\n",
    "                curr = queue.popleft()\n",
    "                if curr.left:\n",
    "                    queue.append(curr.left)\n",
    "                if curr.right:\n",
    "                    queue.append(curr.right)\n",
    "            sublist.append(queue)\n",
    "            levels += 1\n",
    "        return levels_lst\n",
    "\n",
    "        \"\"\"\n",
    "\n",
    "#Stopped after 26 minutes, I wasn't far though\n",
    "\n",
    "        res = []\n",
    "        q = collections.deque()\n",
    "        q.append(root)\n",
    "\n",
    "        while q:\n",
    "            qLen = len(q)\n",
    "            level = []\n",
    "            for i in range(qLen):\n",
    "                node = q.popleft()\n",
    "                if node:\n",
    "                    level.append(node.val)\n",
    "                    q.append(node.left)\n",
    "                    q.append(node.right)\n",
    "            if level:\n",
    "                res.append(level)\n",
    "        return res\n",
    "\n",
    "\n",
    "\n",
    "        "
   ]
  },
  {
   "cell_type": "code",
   "execution_count": null,
   "id": "91e341c7-62b5-482e-a9a6-406c50333c64",
   "metadata": {},
   "outputs": [],
   "source": []
  }
 ],
 "metadata": {
  "kernelspec": {
   "display_name": "Python 3 (ipykernel)",
   "language": "python",
   "name": "python3"
  },
  "language_info": {
   "codemirror_mode": {
    "name": "ipython",
    "version": 3
   },
   "file_extension": ".py",
   "mimetype": "text/x-python",
   "name": "python",
   "nbconvert_exporter": "python",
   "pygments_lexer": "ipython3",
   "version": "3.13.5"
  }
 },
 "nbformat": 4,
 "nbformat_minor": 5
}
